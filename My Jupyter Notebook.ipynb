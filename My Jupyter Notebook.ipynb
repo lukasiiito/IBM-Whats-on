{
 "cells": [
  {
   "cell_type": "markdown",
   "id": "9dffe43a-9230-4138-a68c-1853c1cc48ce",
   "metadata": {},
   "source": [
    "<h1>My Jupyter Notebook on IBM Watson Studio<h1>"
   ]
  },
  {
   "cell_type": "markdown",
   "id": "a152fa43-00cd-4d55-a969-a5d4404c0326",
   "metadata": {},
   "source": [
    "**Lukas Ulicny** <br/>\n",
    "Researcher"
   ]
  },
  {
   "cell_type": "markdown",
   "id": "9f4ea0be-b210-4d83-963b-f69a0ec29c35",
   "metadata": {},
   "source": [
    "*I am interested in data science because it is fascinating and related to what I studied in University.*"
   ]
  },
  {
   "cell_type": "markdown",
   "id": "ea305c8b-d4f8-41bc-b89f-fde7ac832b98",
   "metadata": {},
   "source": [
    "<h3>Next cell is going to tell you have much is 345 divided by 23<h3>"
   ]
  },
  {
   "cell_type": "code",
   "execution_count": 8,
   "id": "ab7edbd0-a33f-4491-802e-5bf8cccb76db",
   "metadata": {},
   "outputs": [
    {
     "data": {
      "text/plain": [
       "15.0"
      ]
     },
     "execution_count": 8,
     "metadata": {},
     "output_type": "execute_result"
    }
   ],
   "source": [
    "345/23"
   ]
  },
  {
   "cell_type": "markdown",
   "id": "83fc1a46-1023-462b-a7c2-6b03f82e0852",
   "metadata": {},
   "source": [
    "| table | table | table |\n",
    "|-------|-------|-------|\n",
    "| cell | cell | cell |\n",
    "| cell | cell | cell |\n",
    "\n",
    "- one\n",
    "- two\n",
    "- three\n",
    "- four\n",
    "- five\n",
    "\n",
    "~~I dont know what to write here"
   ]
  },
  {
   "cell_type": "code",
   "execution_count": null,
   "id": "39f2f29f-72ed-44b0-8714-c7bb86e1e45a",
   "metadata": {},
   "outputs": [],
   "source": []
  }
 ],
 "metadata": {
  "kernelspec": {
   "display_name": "Python",
   "language": "python",
   "name": "conda-env-python-py"
  },
  "language_info": {
   "codemirror_mode": {
    "name": "ipython",
    "version": 3
   },
   "file_extension": ".py",
   "mimetype": "text/x-python",
   "name": "python",
   "nbconvert_exporter": "python",
   "pygments_lexer": "ipython3",
   "version": "3.7.12"
  }
 },
 "nbformat": 4,
 "nbformat_minor": 5
}
