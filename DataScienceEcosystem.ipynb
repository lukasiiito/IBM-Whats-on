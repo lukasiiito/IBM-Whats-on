{
 "cells": [
  {
   "cell_type": "markdown",
   "id": "159d4259-02ee-4184-a1f0-11ea572be864",
   "metadata": {},
   "source": [
    "<h1>Data Science Tools and Ecosystems<h1>"
   ]
  },
  {
   "cell_type": "markdown",
   "id": "094d8092-ade0-4b17-89b8-427caaed873b",
   "metadata": {},
   "source": [
    "In this notebook, Data Science Tools and Ecosystem are summarized."
   ]
  },
  {
   "cell_type": "markdown",
   "id": "5ccae7b8-af4c-49c7-91af-f51b75032401",
   "metadata": {},
   "source": [
    "**Objectives:**\n",
    "- Popular languages for Data Science\n",
    "- Commonly used libraries used by Data Scientists\n",
    "- Open source tools used in Data Science"
   ]
  },
  {
   "cell_type": "markdown",
   "id": "df27a170-1415-4e88-bae6-e90419c66e91",
   "metadata": {},
   "source": [
    "Some of the popular languages that Data Scientists use are:\n",
    "1. R\n",
    "2. Python\n",
    "3. SQL"
   ]
  },
  {
   "cell_type": "markdown",
   "id": "f29b4d10-6d84-4c30-992b-2a8a14ae3ccf",
   "metadata": {},
   "source": [
    "Some of the commonly used libraries used by Data Scientists include:\n",
    "1. Pandas\n",
    "2. Numpy \n",
    "3. Matplotlib\n",
    "4. Seaborn\n",
    "5. Scikit-learn\n",
    "6. Keras"
   ]
  },
  {
   "cell_type": "markdown",
   "id": "7bd65d71-8fcf-4ca1-b587-3ee25a1607da",
   "metadata": {},
   "source": [
    "| Data Science Tools |\n",
    "|--------------------|\n",
    "| Jupyter |\n",
    "| R Studio |\n",
    "| Apache Zeppelin |"
   ]
  },
  {
   "cell_type": "markdown",
   "id": "d6b684e2-eaca-4bb4-a29d-1d966b4fafc1",
   "metadata": {},
   "source": [
    "<h3> Below are a few examples of evaluating arithmetic expressions in Python <h3>"
   ]
  },
  {
   "cell_type": "code",
   "execution_count": 4,
   "id": "172522e6-9bc1-4571-8139-cb176304f003",
   "metadata": {},
   "outputs": [
    {
     "data": {
      "text/plain": [
       "17"
      ]
     },
     "execution_count": 4,
     "metadata": {},
     "output_type": "execute_result"
    }
   ],
   "source": [
    "#  This a simple arithmetic expression to mutiply then add integers\n",
    "\n",
    "(3*4)+5"
   ]
  },
  {
   "cell_type": "code",
   "execution_count": 6,
   "id": "914ac7bd-31b6-43f5-b458-6adae1f42c95",
   "metadata": {},
   "outputs": [
    {
     "data": {
      "text/plain": [
       "3.3333333333333335"
      ]
     },
     "execution_count": 6,
     "metadata": {},
     "output_type": "execute_result"
    }
   ],
   "source": [
    "# This will convert 200 minutes to hours by diving by 60\n",
    "\n",
    "200/60"
   ]
  },
  {
   "cell_type": "markdown",
   "id": "817827a6-d893-4be5-a455-040112d526bd",
   "metadata": {},
   "source": [
    "<h2>Author</h2>\n",
    "    Lukas Ulicny"
   ]
  },
  {
   "cell_type": "code",
   "execution_count": null,
   "id": "ed75756d-11a2-481d-ba68-1eb75936102f",
   "metadata": {},
   "outputs": [],
   "source": []
  }
 ],
 "metadata": {
  "kernelspec": {
   "display_name": "Python",
   "language": "python",
   "name": "conda-env-python-py"
  },
  "language_info": {
   "codemirror_mode": {
    "name": "ipython",
    "version": 3
   },
   "file_extension": ".py",
   "mimetype": "text/x-python",
   "name": "python",
   "nbconvert_exporter": "python",
   "pygments_lexer": "ipython3",
   "version": "3.7.12"
  }
 },
 "nbformat": 4,
 "nbformat_minor": 5
}
